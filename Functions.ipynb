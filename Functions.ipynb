{
  "nbformat": 4,
  "nbformat_minor": 0,
  "metadata": {
    "colab": {
      "provenance": []
    },
    "kernelspec": {
      "name": "python3",
      "display_name": "Python 3"
    },
    "language_info": {
      "name": "python"
    }
  },
  "cells": [
    {
      "cell_type": "markdown",
      "source": [
        "# Functions\n"
      ],
      "metadata": {
        "id": "oAoH4tbt4lfy"
      }
    },
    {
      "cell_type": "markdown",
      "source": [
        "1. What is the difference between fuction and method in Python?\n",
        "-  hfkuas ksfhkjshfkjaskjd ansdfkhaskjdhfkaskdf bsdkfkajsdkfjaks sudfhkjashfkjasdf asdfkjas fasdfhkjasdfkjjasd fkasjhdfkjskdfkas fkasndfkanskjdfnka fdfjasdnfa djfnkjdfnasd fndsakjfnkjasdf nsdfknaskjdfnkjasd fnaskdfnkanskdf.\n"
      ],
      "metadata": {
        "id": "Khexob2l4w0J"
      }
    },
    {
      "cell_type": "markdown",
      "source": [
        "2. What is your Name?\n",
        "- Aryan"
      ],
      "metadata": {
        "id": "ULJZt-yF5W_5"
      }
    }
  ]
}